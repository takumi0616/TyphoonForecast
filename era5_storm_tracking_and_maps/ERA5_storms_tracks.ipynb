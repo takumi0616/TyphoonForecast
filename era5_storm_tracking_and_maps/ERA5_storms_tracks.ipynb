{
 "cells": [
  {
   "cell_type": "markdown",
   "metadata": {},
   "source": [
    "\n",
    "# Trajectoires de tempêtes dans les réanalyses ERA5\n",
    "\n",
    "Calepin à utiliser pour le tracé de trajectoires et l'analyse du creusement de tempêtes remarquables à partir des fichiers \"tempête.txt\" obtenus grâce au programme de tracking automatique du calepin \"ERA5_storms_tracking_auto.ipynb\"."
   ]
  },
  {
   "cell_type": "code",
   "execution_count": null,
   "metadata": {},
   "outputs": [],
   "source": [
    "import os\n",
    "\n",
    "import xarray as xr\n",
    "import netCDF4\n",
    "\n",
    "import numpy as np\n",
    "\n",
    "from cartopy import config\n",
    "from cartopy.util import add_cyclic_point\n",
    "import cartopy.feature as cfeature\n",
    "import cartopy.crs as ccrs\n",
    "from cartopy.mpl.geoaxes import GeoAxes\n",
    "from cartopy.mpl.ticker import LongitudeFormatter, LatitudeFormatter\n",
    "import cartopy.io.img_tiles as cimgt\n",
    "\n",
    "import matplotlib.pyplot as plt\n",
    "from mpl_toolkits.axes_grid1 import AxesGrid\n",
    "\n",
    "import IPython.display as IPdisplay, matplotlib.font_manager as fm\n",
    "from PIL import Image\n",
    "import glob\n",
    "\n",
    "from tqdm import tqdm\n",
    "\n",
    "import warnings\n",
    "warnings.filterwarnings('ignore')"
   ]
  },
  {
   "cell_type": "raw",
   "metadata": {},
   "source": [
    "Liste des tempêtes."
   ]
  },
  {
   "cell_type": "code",
   "execution_count": null,
   "metadata": {},
   "outputs": [],
   "source": [
    "storms=['Nov1982', 'Oct1987', 'Herta', 'Viviane', 'Braer', 'Lothar', 'Martin', 'Klaus', 'Xynthia',\n",
    "        'Joachim', 'Zeus', 'Ophelia', 'Eleanor', 'Zorbas', 'Lorenzo', 'Alex', 'Ciaran']\n",
    "\n",
    "#storms=['Nov1982', 'Oct1987', 'Herta', 'Viviane', 'Braer', 'Lothar', 'Martin', 'Klaus', 'Xynthia',\n",
    "#        'Joachim', 'Zeus', 'Eleanor', 'Alex', 'Ciaran']"
   ]
  },
  {
   "cell_type": "raw",
   "metadata": {},
   "source": [
    "Tracé des trajectoires."
   ]
  },
  {
   "cell_type": "code",
   "execution_count": null,
   "metadata": {
    "scrolled": false
   },
   "outputs": [],
   "source": [
    "latS=25\n",
    "latN=70\n",
    "lonW=-75\n",
    "lonE=30\n",
    "bounds = [(lonW, lonE, latS, latN)]\n",
    "\n",
    "projection=ccrs.NearsidePerspective(central_longitude=(lonW+lonE)/2, central_latitude=(latS+latN)/2)\n",
    "#projection=ccrs.LambertConformal(central_longitude=(lonW+lonE)/2, central_latitude=(latS+latN)/2)\n",
    "\n",
    "coast = cfeature.NaturalEarthFeature(category='physical', scale='10m', facecolor='none', name='coastline')\n",
    "                             \n",
    "fig = plt.figure(figsize=(15., 10.))\n",
    "ax = fig.add_subplot(1, 1, 1, projection=projection)\n",
    "ax.set_title('A selection of storms tracked from ERA5 hourly MSLP data at ~30km resolution',loc='center',fontsize=14)\n",
    "ax.add_feature(coast, edgecolor='gray')\n",
    "ax.gridlines(draw_labels=True, color='gray', alpha=0.8, linestyle='-')\n",
    "#ax.stock_img()\n",
    "LAND = cfeature.NaturalEarthFeature('physical', 'land', '10m',edgecolor='face',facecolor=cfeature.COLORS['land'],linewidth=.1)\n",
    "ax.add_feature(LAND)\n",
    "OCEAN = cfeature.NaturalEarthFeature('physical', 'ocean', '10m',edgecolor='face',facecolor=cfeature.COLORS['water'],linewidth=.1)\n",
    "ax.add_feature(OCEAN)\n",
    "\n",
    "ax.set_extent(*bounds, crs=ccrs.PlateCarree())\n",
    "\n",
    "for storm in storms:\n",
    "    liste_time,liste_lon,liste_lat,liste_pres=np.loadtxt('./txt/'+storm+'.txt',skiprows=0, dtype='U13,float,float,int',unpack=True)\n",
    "    date1=str(liste_time[0])\n",
    "    date2=str(liste_time[-1])\n",
    "    ax.plot(liste_lon,liste_lat, transform=ccrs.PlateCarree(), label=storm+' '+date1+'-'+date2)\n",
    "    ax.text(liste_lon[0]+1, liste_lat[0], storm, verticalalignment='center', horizontalalignment='right',transform=ccrs.PlateCarree())\n",
    "\n",
    "ax.legend(loc=\"upper center\", ncol=3)\n",
    "plt.show()\n",
    "\n",
    "figname='./figs/tracks'\n",
    "fig.savefig(figname+'.png',bbox_inches='tight')"
   ]
  },
  {
   "cell_type": "markdown",
   "metadata": {},
   "source": [
    "<div class=\"alert alert-danger\">\n",
    "<p><b>Vérifier que les trajectoires de tempêtes tracées ci-dessus (obtenues à partir du calepin ERA5_storms_tracking_auto.ipynb) sont correctes.</b></p>\n",
    "</div>"
   ]
  },
  {
   "cell_type": "raw",
   "metadata": {},
   "source": [
    "Choix du pas de temps (données au pas de temps horaire dans le fichier texte)."
   ]
  },
  {
   "cell_type": "code",
   "execution_count": null,
   "metadata": {
    "scrolled": false
   },
   "outputs": [],
   "source": [
    "interval=int(input(\"Enter the desired time interval (1h or 3h is advised): \"))\n",
    "\n",
    "if not os.path.exists(\"./figs/tracking\"):\n",
    "    os.makedirs(\"./figs/tracking\")"
   ]
  },
  {
   "cell_type": "raw",
   "metadata": {},
   "source": [
    "Tracé des évolutions de la Pmer."
   ]
  },
  {
   "cell_type": "code",
   "execution_count": null,
   "metadata": {
    "scrolled": false
   },
   "outputs": [],
   "source": [
    "for storm in storms:\n",
    "    \n",
    "    liste_time,liste_lon,liste_lat,liste_pres=np.loadtxt('./txt/'+storm+'.txt',skiprows=0,\n",
    "                                                         dtype='U13,float,float,int',unpack=True)\n",
    "\n",
    "    liste_time=liste_time[::interval]\n",
    "    liste_lon=liste_lon[::interval]\n",
    "    liste_lat=liste_lat[::interval]\n",
    "    liste_pres=liste_pres[::interval]\n",
    "    date1=str(liste_time[0])\n",
    "    date2=str(liste_time[-1])\n",
    "\n",
    "    fig = plt.figure(figsize=(18, 10))\n",
    "    ax = fig.add_subplot(1, 1, 1)\n",
    "    ax.set_title(storm+' - min = '+str(np.min(liste_pres))+' hPa ('+str(liste_time[np.argmin(liste_pres)])+')',\n",
    "                 loc='center',fontsize=14)\n",
    "    ax.plot(liste_time,liste_pres, color='gold', label=storm)\n",
    "    ax.scatter(liste_time,liste_pres, color='gold', marker='o', facecolors='none', edgecolors='gold')\n",
    "    plt.grid(alpha=0.5)\n",
    "    plt.xlim(liste_time[0],liste_time[-1])\n",
    "    plt.xlabel('Date', fontsize=12)\n",
    "    plt.ylabel('Mean sea level pressure (hPa)', fontsize=12)\n",
    "    locs, labels = plt.xticks()\n",
    "    plt.setp(labels, rotation=90)\n",
    "    ax.tick_params(axis='x', labelsize=10)\n",
    "    plt.show()\n",
    "    figname='./figs/tracking/'+storm+'_slp_evolution'\n",
    "    fig.savefig(figname+'.png')"
   ]
  },
  {
   "cell_type": "markdown",
   "metadata": {},
   "source": [
    "<div class=\"alert alert-warning\">\n",
    "<p><b>\n",
    "Sanders et Gyakum (1980) définissent une cyclogenèse explosive (CE) lorsque la pression centrale minimale chute de plus de 24 hPa en 24 h lorsqu'elle est ajustée géostrophiquement à 60°N (l'ajustement de la latitude est effectué pour tenir compte de la variation du vent géostrophique avec la latitude pour un gradient de pression donné). Comme les CE se produisent généralement aux latitudes moyennes et que les données de réanalyse à haute résolution sont largement utilisées, Zhang et al. (2017) ont ajusté la latitude à 45°N et fixé la chute de pression à 12 hPa/12 h. Selon cette définition, le taux de creusement (en Bergeron) d'un cyclone au temps t est défini comme :\n",
    "$$DR(t) = \\frac{sin(45°)}{sin(\\phi(t))} ) * \\frac{P_{t-6h}-P_{t+6h}}{12h}$$\n",
    "    \n",
    "Selon le taux de creusement maximal Zhang et al. (2017) ont classifié les CE en 4 catégories : Super (≥2.30 Bergeron), forte (1.70–2.29 Bergeron), modérée (1.30–1.69 Bergeron) et faible (1.00–1.29 Bergeron).</b></p>\n",
    "</div>"
   ]
  },
  {
   "cell_type": "markdown",
   "metadata": {},
   "source": [
    "<div class=\"alert alert-danger\">\n",
    "<p><b>\n",
    "Pour chaque tempête, calculer le taux de creusement maximal en Bergeron selon la définition de Zhang et al. et préciser la date où ce creusement maximal a lieu.\n",
    "    \n",
    "Indication : s'aider de la fonction running_diff et des exemples fictifs proposés avec des séries temporelles 6h ou 3h.</b></p>\n",
    "</div>"
   ]
  },
  {
   "cell_type": "raw",
   "metadata": {},
   "source": [
    "Fonction de diagnostique sur le creusement."
   ]
  },
  {
   "cell_type": "code",
   "execution_count": null,
   "metadata": {},
   "outputs": [],
   "source": [
    "def running_diff(arr, N):\n",
    "    return np.array([arr[i] - arr[i-N] for i in range(N, len(arr))])\n",
    "\n",
    "ex_time=['2020-10-02T00','2020-10-02T06','2020-10-02T12','2020-10-02T18','2020-10-03T00','2020-10-03T06',\n",
    "     '2020-10-03T12','2020-10-03T18','2020-10-04T00','2020-10-04T06','2020-10-04T12','2020-10-04T18']\n",
    "ex_pres=[1005,1004,1002,1000,995,982,980,978,970,962,955,950]\n",
    "\n",
    "N=2 #12h in time array\n",
    "diff=running_diff(ex_pres, N)\n",
    "max_dr=np.min(diff)\n",
    "max_dr_ind=np.argmin(diff)\n",
    "print(ex_time)\n",
    "print(ex_pres)\n",
    "print(diff)\n",
    "print('baisse max 12h : ', max_dr)\n",
    "print('indice baisse max dans tableau diff : ', max_dr_ind)\n",
    "print('date baisse max : ', ex_time[max_dr_ind+int(N/2)])\n",
    "\n",
    "print('************************')\n",
    "\n",
    "ex_time=['2020-10-02T00','2020-10-02T03','2020-10-02T06','2020-10-02T09','2020-10-02T12','2020-10-02T15',\n",
    "     '2020-10-02T18','2020-10-03T00','2020-10-03T03','2020-10-03T06','2020-10-03T09','2020-10-03T12']\n",
    "ex_pres=[1005,1004,1002,1000,995,982,980,978,970,962,955,950]\n",
    "\n",
    "N=4 #12h in time array\n",
    "diff=running_diff(ex_pres, N)\n",
    "max_dr=np.min(diff)\n",
    "max_dr_ind=np.argmin(diff)\n",
    "print(ex_time)\n",
    "print(ex_pres)\n",
    "print(diff)\n",
    "print('baisse max 12h : ', max_dr)\n",
    "print('indice baisse max dans tableau diff : ', max_dr_ind)\n",
    "print('date baisse max : ', ex_time[max_dr_ind+int(N/2)])"
   ]
  },
  {
   "cell_type": "raw",
   "metadata": {},
   "source": [
    "Diagnostique sur le creusement."
   ]
  },
  {
   "cell_type": "code",
   "execution_count": null,
   "metadata": {
    "scrolled": false
   },
   "outputs": [],
   "source": [
    "for storm in storms:\n",
    "    \n",
    "    liste_time,liste_lon,liste_lat,liste_pres=np.loadtxt('./txt/'+storm+'.txt',skiprows=0,\n",
    "                                                         dtype='U13,float,float,int',unpack=True)\n",
    "\n",
    "    liste_time=liste_time[::interval]\n",
    "    liste_lon=liste_lon[::interval]\n",
    "    liste_lat=liste_lat[::interval]\n",
    "    liste_pres=liste_pres[::interval]\n",
    "    date1=str(liste_time[0])\n",
    "    date2=str(liste_time[-1])\n",
    "    \n",
    "    # 12h deepening rate\n",
    "    N=int((12/interval))\n",
    "    dr=running_diff(liste_pres, N)\n",
    "    max_dr=np.min(dr)\n",
    "    max_dr_ind=np.argmin(dr)\n",
    "    max_dr_bergeron=-(max_dr/12)*np.sin(45*np.pi/180)/np.sin(liste_lat[max_dr_ind+int(N/2)]*np.pi/180)\n",
    "    \n",
    "    print('-------------------------------------------------------------------------------')\n",
    "    print(storm)\n",
    "    print('Maximum 12h instantaneus deepening rate at latitude '+str(liste_lat[max_dr_ind+int(N/2)])+' (hPa/12h) : '\n",
    "          , round(-max_dr,2))\n",
    "    print('Maximum instantaneus deepening rate (Bergeron) : ', round(max_dr_bergeron,2))\n",
    "    print('Maximum instantaneus deepening rate date : ', liste_time[max_dr_ind+int(N/2)])"
   ]
  },
  {
   "cell_type": "markdown",
   "metadata": {},
   "source": [
    "\n",
    "# Complément prof"
   ]
  },
  {
   "cell_type": "raw",
   "metadata": {},
   "source": [
    "Fonction de diagnostique sur le creusement."
   ]
  },
  {
   "cell_type": "code",
   "execution_count": null,
   "metadata": {},
   "outputs": [],
   "source": [
    "def calculer_baisse_maximale_pression(pressions):\n",
    "    pression_min = float('inf')\n",
    "    pression_max = float('-inf')\n",
    "    debut_baisse_max = 0\n",
    "    fin_baisse_max = 0\n",
    "    points_baisse_max = 0\n",
    "    points_actuels = 0\n",
    "\n",
    "    for i, pression in enumerate(pressions):\n",
    "        if pression > pression_max:\n",
    "            pression_max = pression\n",
    "            points_actuels = 0\n",
    "        if pression < pression_min:\n",
    "            pression_min = pression\n",
    "            points_actuels += 1\n",
    "            if points_actuels > points_baisse_max:\n",
    "                points_baisse_max = points_actuels\n",
    "                debut_baisse_max = i - points_actuels + 1\n",
    "                fin_baisse_max = i\n",
    "        elif pression == pression_min:\n",
    "            points_actuels += 1\n",
    "        else:\n",
    "            points_actuels = 0\n",
    "\n",
    "    return pression_max - pression_min, points_baisse_max, debut_baisse_max, fin_baisse_max\n",
    "\n",
    "\n",
    "ex_pres=[1005,1004,1002,1000,995,982,980,978,970,962,955,950]\n",
    "baisse_maximale, points_baisse_max, debut_baisse_max, fin_baisse_max = calculer_baisse_maximale_pression(ex_pres)\n",
    "print('baisse max (hPa) : ', baisse_maximale)\n",
    "print('nb de points concernés par la baisse : ', points_baisse_max)\n",
    "print('indice de début de la baisse dans tableau pressions : ', debut_baisse_max)\n",
    "print('indice de fin de la baisse dans tableau pressions : ', fin_baisse_max)"
   ]
  },
  {
   "cell_type": "raw",
   "metadata": {},
   "source": [
    "Diagnostique sur le creusement."
   ]
  },
  {
   "cell_type": "code",
   "execution_count": null,
   "metadata": {
    "scrolled": false
   },
   "outputs": [],
   "source": [
    "for storm in storms:\n",
    "    \n",
    "    liste_time,liste_lon,liste_lat,liste_pres=np.loadtxt('./txt/'+storm+'.txt',skiprows=0,\n",
    "                                                         dtype='U13,float,float,int',unpack=True)\n",
    "\n",
    "    liste_time=liste_time[::interval]\n",
    "    liste_lon=liste_lon[::interval]\n",
    "    liste_lat=liste_lat[::interval]\n",
    "    liste_pres=liste_pres[::interval]\n",
    "    date1=str(liste_time[0])\n",
    "    date2=str(liste_time[-1])\n",
    "    \n",
    "    # Maximum pressure fall\n",
    "    baisse_maximale, points_baisse_max, debut_baisse_max, fin_baisse_max = calculer_baisse_maximale_pression(liste_pres)\n",
    "    \n",
    "    print('-------------------------------------------------------------------------------')\n",
    "    print(storm)\n",
    "    print(\"Maximum pressure fall (hPa) : \", baisse_maximale)\n",
    "    print(\"Beginning of the deepening phase : \", liste_time[debut_baisse_max])\n",
    "    print(\"End of the deepening phase : \", liste_time[fin_baisse_max])\n",
    "    print(\"Number of elapsed hours during the maximum pressure fall : \", (points_baisse_max*interval)-interval)\n",
    "    print(\"Corresponding mean pressure fall rate in hPa/h : \", round(baisse_maximale/(points_baisse_max*interval),2))"
   ]
  }
 ],
 "metadata": {
  "kernelspec": {
   "display_name": "Python 3 (ipykernel)",
   "language": "python",
   "name": "python3"
  },
  "language_info": {
   "codemirror_mode": {
    "name": "ipython",
    "version": 3
   },
   "file_extension": ".py",
   "mimetype": "text/x-python",
   "name": "python",
   "nbconvert_exporter": "python",
   "pygments_lexer": "ipython3",
   "version": "3.9.13"
  }
 },
 "nbformat": 4,
 "nbformat_minor": 1
}
